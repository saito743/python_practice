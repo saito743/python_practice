{
 "cells": [
  {
   "cell_type": "code",
   "execution_count": 1,
   "metadata": {},
   "outputs": [
    {
     "name": "stdout",
     "output_type": "stream",
     "text": [
      "Hello World\n"
     ]
    }
   ],
   "source": [
    "print('Hello World')"
   ]
  },
  {
   "cell_type": "code",
   "execution_count": 3,
   "metadata": {},
   "outputs": [
    {
     "data": {
      "text/plain": [
       "28.56"
      ]
     },
     "execution_count": 3,
     "metadata": {},
     "output_type": "execute_result"
    }
   ],
   "source": [
    "8 * 3.57"
   ]
  },
  {
   "cell_type": "code",
   "execution_count": 6,
   "metadata": {},
   "outputs": [
    {
     "data": {
      "text/plain": [
       "3670"
      ]
     },
     "execution_count": 6,
     "metadata": {},
     "output_type": "execute_result"
    }
   ],
   "source": [
    "X = 10 * 365\n",
    "y = 20 + X\n",
    "y"
   ]
  },
  {
   "cell_type": "code",
   "execution_count": 8,
   "metadata": {},
   "outputs": [
    {
     "data": {
      "text/plain": [
       "3514"
      ]
     },
     "execution_count": 8,
     "metadata": {},
     "output_type": "execute_result"
    }
   ],
   "source": [
    "x = 3 * 52\n",
    "Y = y - x\n",
    "Y"
   ]
  },
  {
   "cell_type": "code",
   "execution_count": 10,
   "metadata": {},
   "outputs": [
    {
     "ename": "SyntaxError",
     "evalue": "EOL while scanning string literal (<ipython-input-10-5429304530a9>, line 1)",
     "output_type": "error",
     "traceback": [
      "\u001b[0;36m  File \u001b[0;32m\"<ipython-input-10-5429304530a9>\"\u001b[0;36m, line \u001b[0;32m1\u001b[0m\n\u001b[0;31m    fred = 'クォート文字のエラー確認\u001b[0m\n\u001b[0m                        ^\u001b[0m\n\u001b[0;31mSyntaxError\u001b[0m\u001b[0;31m:\u001b[0m EOL while scanning string literal\n"
     ]
    }
   ],
   "source": [
    "fred = 'クォート文字のエラー確認\n",
    "# 文法エラー：文字列の途中でEQLが出てきました"
   ]
  },
  {
   "cell_type": "code",
   "execution_count": 12,
   "metadata": {},
   "outputs": [
    {
     "name": "stdout",
     "output_type": "stream",
     "text": [
      "一行目の文章\n",
      "二行目の文章\n"
     ]
    }
   ],
   "source": [
    "# 複数行作りたい時はクォート文字を３つ連続して書く\n",
    "fred = '''一行目の文章\n",
    "二行目の文章'''\n",
    "print(fred)"
   ]
  },
  {
   "cell_type": "code",
   "execution_count": 13,
   "metadata": {},
   "outputs": [
    {
     "ename": "SyntaxError",
     "evalue": "invalid syntax (<ipython-input-13-988eba89a10f>, line 2)",
     "output_type": "error",
     "traceback": [
      "\u001b[0;36m  File \u001b[0;32m\"<ipython-input-13-988eba89a10f>\"\u001b[0;36m, line \u001b[0;32m2\u001b[0m\n\u001b[0;31m    fred = '代表曲は'夜にかける'と'ハルジオン'です'\u001b[0m\n\u001b[0m                 ^\u001b[0m\n\u001b[0;31mSyntaxError\u001b[0m\u001b[0;31m:\u001b[0m invalid syntax\n"
     ]
    }
   ],
   "source": [
    "# 文章内にクォートを入れるとエラーが起こる\n",
    "yoasobi = '代表曲は'夜にかける'と'ハルジオン'です'\n",
    "# 文法エラー：無効な構文"
   ]
  },
  {
   "cell_type": "code",
   "execution_count": 15,
   "metadata": {},
   "outputs": [
    {
     "name": "stdout",
     "output_type": "stream",
     "text": [
      "代表曲は'夜にかける'と'ハルジオン'です\n"
     ]
    }
   ],
   "source": [
    "# ダブルクォートとシングルクォートを併用して書く\n",
    "yoasobi = \"代表曲は'夜にかける'と'ハルジオン'です\"\n",
    "print(yoasobi)"
   ]
  },
  {
   "cell_type": "code",
   "execution_count": 16,
   "metadata": {},
   "outputs": [
    {
     "name": "stdout",
     "output_type": "stream",
     "text": [
      "前回の期末テストは合計で 480 点でした\n"
     ]
    }
   ],
   "source": [
    "# %sで指定されている位置にデータを埋め込む処理\n",
    "#(正式名称：プレースホルダー)\n",
    "myscore = 480\n",
    "message = '前回の期末テストは合計で %s 点でした'\n",
    "print(message % myscore)"
   ]
  },
  {
   "cell_type": "code",
   "execution_count": 17,
   "metadata": {},
   "outputs": [
    {
     "name": "stdout",
     "output_type": "stream",
     "text": [
      "前回の期末テストは合計で 300 点でした\n"
     ]
    }
   ],
   "source": [
    "# 変数がなくでも処理できる\n",
    "print(message % 300)"
   ]
  },
  {
   "cell_type": "code",
   "execution_count": 21,
   "metadata": {},
   "outputs": [
    {
     "name": "stdout",
     "output_type": "stream",
     "text": [
      "この 本 の価格は 1800 円で、中古品は 500 円でした\n"
     ]
    }
   ],
   "source": [
    "# ２箇所にプレースホルダーがあっても処理できる\n",
    "msg = \"この %s の価格は %s 円で、中古品は %s 円でした\" \n",
    "print(msg % ('本',1800,500))"
   ]
  },
  {
   "cell_type": "code",
   "execution_count": 24,
   "metadata": {},
   "outputs": [
    {
     "name": "stdout",
     "output_type": "stream",
     "text": [
      "                          12 Butts Wynd\n",
      "                          Twinklebottom Heath\n",
      "                          West Snoring\n"
     ]
    }
   ],
   "source": [
    "#文字列の掛け算\n",
    "spaces = ' ' * 25\n",
    "print('%s 12 Butts Wynd'% spaces)\n",
    "print('%s Twinklebottom Heath'% spaces)\n",
    "print('%s West Snoring'% spaces)\n",
    "# 空白を２５個文章の初めに入れている"
   ]
  },
  {
   "cell_type": "code",
   "execution_count": 31,
   "metadata": {},
   "outputs": [
    {
     "name": "stdout",
     "output_type": "stream",
     "text": [
      "['炭次郎', '禰豆子', '善逸', '伊之助']\n"
     ]
    }
   ],
   "source": [
    "list = ['炭次郎','禰豆子','善逸','伊之助']\n",
    "print(list)"
   ]
  },
  {
   "cell_type": "code",
   "execution_count": 26,
   "metadata": {},
   "outputs": [
    {
     "name": "stdout",
     "output_type": "stream",
     "text": [
      "禰豆子\n"
     ]
    }
   ],
   "source": [
    "# リストの要素は０から数え始める\n",
    "print(list[1])"
   ]
  },
  {
   "cell_type": "code",
   "execution_count": 30,
   "metadata": {},
   "outputs": [
    {
     "name": "stdout",
     "output_type": "stream",
     "text": [
      "['炭次郎', '禰豆子']\n"
     ]
    }
   ],
   "source": [
    "print(list[0:2])\n",
    "# インデックス値２より小さい値　を指示しているので、「善逸」は含まれない"
   ]
  },
  {
   "cell_type": "code",
   "execution_count": 32,
   "metadata": {},
   "outputs": [
    {
     "name": "stdout",
     "output_type": "stream",
     "text": [
      "['炭次郎', '禰豆子', '善逸', '伊之助', '義勇']\n"
     ]
    }
   ],
   "source": [
    "# 末尾に要素を付け足す\n",
    "list.append('義勇')\n",
    "print(list)"
   ]
  },
  {
   "cell_type": "code",
   "execution_count": 33,
   "metadata": {},
   "outputs": [
    {
     "name": "stdout",
     "output_type": "stream",
     "text": [
      "['炭次郎', '禰豆子', '善逸', '義勇']\n"
     ]
    }
   ],
   "source": [
    "#　要素を削除する\n",
    "del list[3]\n",
    "print(list)"
   ]
  },
  {
   "cell_type": "code",
   "execution_count": 34,
   "metadata": {},
   "outputs": [
    {
     "name": "stdout",
     "output_type": "stream",
     "text": [
      "2\n"
     ]
    }
   ],
   "source": [
    "# タプルについて\n",
    "# リストとは違い要素の足し引きが不可能\n",
    "fibs = (0,1,2,3)\n",
    "print(fibs[2])"
   ]
  },
  {
   "cell_type": "code",
   "execution_count": 5,
   "metadata": {},
   "outputs": [
    {
     "name": "stdout",
     "output_type": "stream",
     "text": [
      "サッカー\n"
     ]
    }
   ],
   "source": [
    "# 表を作成して検索 :で列を、で行を分ける。\n",
    "# 名前を入れると対応する値を取りだせる\n",
    "favorite_sports = {'太郎':'サッカー','次郎':'バスケットボール','三郎':'野球','四郎':'バドミントン','五郎':'弓道','六太':'剣道'}\n",
    "print(favorite_sports['太郎'])"
   ]
  },
  {
   "cell_type": "markdown",
   "metadata": {},
   "source": [
    "## 3.6 演習問題\n",
    "#### P.37"
   ]
  },
  {
   "cell_type": "code",
   "execution_count": null,
   "metadata": {},
   "outputs": [],
   "source": [
    "# 1.好きなもの\n",
    "games = ['ポケモン','グラブル','KH',]\n",
    "foods = ['','','']\n"
   ]
  }
 ],
 "metadata": {
  "kernelspec": {
   "display_name": "Python 3",
   "language": "python",
   "name": "python3"
  },
  "language_info": {
   "codemirror_mode": {
    "name": "ipython",
    "version": 3
   },
   "file_extension": ".py",
   "mimetype": "text/x-python",
   "name": "python",
   "nbconvert_exporter": "python",
   "pygments_lexer": "ipython3",
   "version": "3.8.3"
  }
 },
 "nbformat": 4,
 "nbformat_minor": 4
}
